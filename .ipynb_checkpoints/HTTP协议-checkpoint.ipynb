{
 "cells": [
  {
   "cell_type": "markdown",
   "metadata": {},
   "source": [
    "# HTTP协议简介"
   ]
  },
  {
   "cell_type": "markdown",
   "metadata": {},
   "source": [
    "#### __协议：协议是网络通信中制定的一种通信规则，所有信息必须按照该规则才能正常传输__\n",
    "_HTTP协议（HyperText Transfer Protocol，超文本传输协议）是因特网上应用最为广泛的一种网络传输协议，所有的WWW文件都必须遵守这个标准。如：_ ***https://www.baidu.com***\n",
    "_HTTP是一个基于TCP/IP通信协议来传递数据（HTML 文件, 图片文件, 查询结果等）。我们在网页上看到的信息都是通过该协议传输过来的!_\n",
    "\n",
    "### __协议工作原理__\n",
    "* HTTP协议工作于客户端-服务端架构上,通俗来讲就是处于你的电脑跟互联网服务器之前的一种协议，用于保证你能够正常上网获取响应的HTML 文件, 图片文件, 查询结果等相关信息。在协议工作的时候，是你的电脑首先向别人的服务器发起请求，请求对方给你响应的信息，对方确认收到后才会把这个网页的信息发给你，这时你才能看到正常的网页信息 *\n",
    "\n",
    "### __协三点注意事项__\n",
    "> *HTTP是无连接：每次只会处理一个请求。服务器处理完客户的请求，并收到客户的应答后，即断开连接。好比通话时每次只问一个问题，说一句话，解决完就挂电话，要问下一个问题只能再次接通电话*\n",
    "\n",
    "> *HTTP是媒体独立的：只要客户端和服务器知道如何处理的数据内容，任何类型的数据都可以通过HTTP发送。好比接通电话后在相应的条件允许下，你们可以问任何问题。~~客户端以及服务器指定使用适合的MIME-type内容类型。~~*\n",
    "\n",
    "> *HTTP是无状态：即协议对于事务处理没有记忆能力。缺少状态意味着如果后续处理需要前面的信息，则它必须重传，这样可能导致每次连接传送的数据量增大。这就相当于你跟对方通完话之后，对方立马就把你忘掉了，下次你再打电话过去，服务器已经不认识你了，如果电话在通话过程中中断，那么就要再打一次再确认一次信息，为了解决这个问题，HTTP协议提供了cookie保证协议的连贯性。另一方面，在服务器不需要先前信息时它的应答就较快，如果你问的问题是前后没有逻辑的，那就不需要确认信息，这就保证了效率。*\n",
    "\n",
    "# python代码中的HTTP协议\n",
    "_事实上，在我们使用代码去解决响应的协议问题的时候，我们并不需要直到其背后运转到哪一步了，我们只需要在意该怎么做，出现什么结果和错误即可，前人已经为我们做好了充足的准备工作，绝大部分工作相对于我们来说都相当的简单，比如执行一次请求：_"
   ]
  },
  {
   "cell_type": "code",
   "execution_count": null,
   "metadata": {},
   "outputs": [],
   "source": [
    "import requests\n",
    "response = requests.get('https://www.baidu.com/')\n",
    "response.encoding = response.apparent_encoding#获取网页编码，对网页内容进行编码，防止乱码产生\n",
    "print(response.text)"
   ]
  },
  {
   "cell_type": "markdown",
   "metadata": {},
   "source": [
    "__在这个过程中程序对百度首页执行了一次HTTP请求，并且将返回的结果赋值给了results,我们可以想办法查看一下results中包含了什么东西，当我们修改网址或者断开网络连接这些值还能正常显示吗？__"
   ]
  },
  {
   "cell_type": "code",
   "execution_count": null,
   "metadata": {},
   "outputs": [],
   "source": [
    "print(type(results),'\\n--------------------------------------------------------------')#这是一个怎样的类型\n",
    "print(results.status_code,'\\n--------------------------------------------------------------')#状态码是多少，两百表示正常链接，请求成功\n",
    "print(type(results.text),'\\n--------------------------------------------------------------')#返回的内容是怎样类型的信息\n",
    "print(results.text,'\\n--------------------------------------------------------------')#返回了怎样的内容\n",
    "print(results.cookies,'\\n--------------------------------------------------------------')#协议中的cookie是怎样的"
   ]
  },
  {
   "cell_type": "markdown",
   "metadata": {},
   "source": [
    "# HTTP协议消息结构\n",
    "\n",
    "### __客户的请求__\n",
    "> *客户的请求其实远不止我们想象中的那么简单，并非像通话一样直接问，而是需要按照一定的格式传输相应的信息，这样对方服务器才能识别你请求的含义，网络中所有的信息传输都依照类似的规定，客户端发送一个HTTP请求到服务器的请求消息包括以下格式：请求行（request line）、请求头部（header）、空行和请求数据四个部分组成，下图给出了请求报文的一般格式。\n",
    "> ![avatar](HTTP请求协议.png)\n",
    "\n",
    "### __服务器响应__\n",
    "> *有请求就有响应，服务器的响应也必须按照规定的格式才能被本地接收，HTTP响应也由四个部分组成，分别是：状态行、消息报头、空行和响应正文。\n",
    "> ![avatar](HTTP服务器响应.png)\n",
    "\n",
    "#### **网络协议信息传输之所以如此复杂，其背后涵盖了众多因素，不仅牵扯到网络安全，也涉及传输效率。**"
   ]
  },
  {
   "cell_type": "markdown",
   "metadata": {},
   "source": [
    "# HTTP协议方法\n",
    "* HTTP1.0 定义了三种请求方法： GET, POST 和 HEAD方法。\n",
    "* HTTP1.1 新增了六种请求方法：OPTIONS、PUT、PATCH、DELETE、TRACE 和 CONNECT 方法。\n",
    "* __在上一段内容的服务器响应所提供的图片中，第一行状态行表明了该协议为HTTP1.1__ *\n",
    "<table>\n",
    "<tbody><tr><th width=\"5%\">序号</th><th width=\"10%\">方法</th><th>描述</th></tr>\n",
    "<tr><td>1</td><td>GET</td><td>请求指定的页面信息，并返回实体主体。</td></tr>\n",
    "<tr><td>2</td><td>HEAD</td><td>类似于 GET 请求，只不过返回的响应中没有具体的内容，用于获取报头</td></tr>\n",
    "<tr><td>3</td><td>POST</td><td>向指定资源提交数据进行处理请求（例如提交表单或者上传文件）。数据被包含在请求体中。POST 请求可能会导致新的资源的建立和/或已有资源的修改。</td></tr>\n",
    "<tr><td>4</td><td>PUT</td><td>从客户端向服务器传送的数据取代指定的文档的内容。</td></tr>\n",
    "<tr><td>5</td><td>DELETE</td><td>请求服务器删除指定的页面。</td></tr>\n",
    "<tr><td>6</td><td>CONNECT</td><td>HTTP/1.1 协议中预留给能够将连接改为管道方式的代理服务器。</td></tr>\n",
    "<tr><td>7</td><td>OPTIONS </td><td>允许客户端查看服务器的性能。</td></tr>\n",
    "<tr><td>8</td><td>TRACE</td><td>回显服务器收到的请求，主要用于测试或诊断。</td></tr>\n",
    "<tr><td>9</td><td>PATCH</td><td>是对 PUT 方法的补充，用来对已知资源进行局部更新 。</td></tr>\n",
    "</tbody></table>\n",
    "\n",
    "_在爬虫的使用中，我们绝大部分遇到的只是get跟put,极少极少的情况下会遇到其他方法，所以需要重点关注这两类方法_"
   ]
  },
  {
   "cell_type": "raw",
   "metadata": {},
   "source": [
    "import requests\n",
    "results = requests.get('url链接')\n",
    "results = requests.post('url链接')\n",
    "results = requests.put('url链接')\n",
    "results = requests.delete('url链接')\n",
    "results = requests.head('url链接')\n",
    "results = requests.options('url链接')"
   ]
  },
  {
   "cell_type": "markdown",
   "metadata": {},
   "source": [
    "# HTTP协议头信息\n",
    "\n",
    "<table class=\"reference\">\n",
    "    <tbody>\n",
    "        <tr>\n",
    "            <th width=\"10%\">应答头 </th>\n",
    "            <th>说明 </th>\n",
    "        </tr>\n",
    "        <tr>\n",
    "            <td>Allow </td>\n",
    "            <td><p>服务器支持哪些请求方法（如GET、POST等）。</p></td>\n",
    "        </tr>\n",
    "        <tr>\n",
    "            <td>Content-Encoding</td>\n",
    "            <td><p>文档的编码（Encode）方法。只有在解码之后才可以得到Content-Type头指定的内容类型。利用gzip压缩文档能够显著地减少HTML文档的下载时间。Java的GZIPOutputStream可以很方便地进行gzip压缩，但只有Unix上的Netscape和Windows上的IE 4、IE 5才支持它。因此，Servlet应该通过查看Accept-Encoding头（即request.getHeader(\"Accept-Encoding\")）检查浏览器是否支持gzip，为支持gzip的浏览器返回经gzip压缩的HTML页面，为其他浏览器返回普通页面。</p></td>\n",
    "        </tr>\n",
    "        <tr>\n",
    "            <td>Content-Length </td>\n",
    "            <td><p>表示内容长度。只有当浏览器使用持久HTTP连接时才需要这个数据。如果你想要利用持久连接的优势，可以把输出文档写入 ByteArrayOutputStream，完成后查看其大小，然后把该值放入Content-Length头，最后通过byteArrayStream.writeTo(response.getOutputStream()发送内容。</p></td>\n",
    "        </tr>\n",
    "        <tr>\n",
    "            <td>Content-Type</td>\n",
    "            <td><p>表示后面的文档属于什么MIME类型。Servlet默认为text/plain，但通常需要显式地指定为text/html。由于经常要设置Content-Type，因此HttpServletResponse提供了一个专用的方法setContentType。</p></td>\n",
    "        </tr>\n",
    "        <tr>\n",
    "            <td>Date </td>\n",
    "            <td><p>当前的GMT时间。你可以用setDateHeader来设置这个头以避免转换时间格式的麻烦。</p> </td>\n",
    "        </tr>\n",
    "        <tr>\n",
    "            <td>Expires </td>\n",
    "            <td><p>应该在什么时候认为文档已经过期，从而不再缓存它？</p></td>\n",
    "        </tr>\n",
    "        <tr>\n",
    "            <td>Last-Modified</td>\n",
    "            <td><p>文档的最后改动时间。客户可以通过If-Modified-Since请求头提供一个日期，该请求将被视为一个条件GET，只有改动时间迟于指定时间的文档才会返回，否则返回一个304（Not Modified）状态。Last-Modified也可用setDateHeader方法来设置。</p></td>\n",
    "        </tr>\n",
    "        <tr>\n",
    "            <td>Location </td>\n",
    "            <td><p>表示客户应当到哪里去提取文档。Location通常不是直接设置的，而是通过HttpServletResponse的sendRedirect方法，该方法同时设置状态代码为302。 </p></td>\n",
    "        </tr>\n",
    "        <tr>\n",
    "            <td>Refresh</td>\n",
    "            <td><p>表示浏览器应该在多少时间之后刷新文档，以秒计。除了刷新当前文档之外，你还可以通过setHeader(\"Refresh\", \"5; URL=http://host/path\")让浏览器读取指定的页面。 <br>注意这种功能通常是通过设置HTML页面HEAD区的＜META HTTP-EQUIV=\"Refresh\" CONTENT=\"5;URL=http://host/path\"＞实现，这是因为，自动刷新或重定向对于那些不能使用CGI或Servlet的HTML编写者十分重要。但是，对于Servlet来说，直接设置Refresh头更加方便。 <br><br>注意Refresh的意义是\"N秒之后刷新本页面或访问指定页面\"，而不是\"每隔N秒刷新本页面或访问指定页面\"。因此，连续刷新要求每次都发送一个Refresh头，而发送204状态代码则可以阻止浏览器继续刷新，不管是使用Refresh头还是＜META HTTP-EQUIV=\"Refresh\" ...＞。 <br><br>注意Refresh头不属于HTTP 1.1正式规范的一部分，而是一个扩展，但Netscape和IE都支持它。</p></td>\n",
    "        </tr>\n",
    "        <tr>\n",
    "            <td>Server</td>\n",
    "            <td><p>服务器名字。Servlet一般不设置这个值，而是由Web服务器自己设置。</p></td>\n",
    "        </tr>\n",
    "        <tr>\n",
    "            <td>Set-Cookie </td>\n",
    "            <td><p>设置和页面关联的Cookie。Servlet不应使用response.setHeader(\"Set-Cookie\", ...)，而是应使用HttpServletResponse提供的专用方法addCookie。参见下文有关Cookie设置的讨论。</p></td>\n",
    "        </tr>\n",
    "        <tr>\n",
    "            <td>WWW-Authenticate</td>\n",
    "            <td><p>客户应该在Authorization头中提供什么类型的授权信息？在包含401（Unauthorized）状态行的应答中这个头是必需的。例如，response.setHeader(\"WWW-Authenticate\", \"BASIC realm=＼\"executives＼\"\")。 <br>注意Servlet一般不进行这方面的处理，而是让Web服务器的专门机制来控制受密码保护页面的访问（例如.htaccess）。</p></td>\n",
    "        </tr>\n",
    "    </tbody>\n",
    "</table>\t\t\t<!-- 其他扩展 -->\n",
    "\n",
    "**事实上我们可以在开发者工具中找到关于HTTP协议传输的请求头，打开微博网页后右键选择检查或者开发者工具，点击network，点击doc，刷新网页，这些请求头并没有包含所有的参数，具体情况要按请求内容与设置来看**\n",
    "\n",
    "\n",
    "_在爬虫的使用中，我们使用了HTTP协议，但这个协议并不是为我们爬虫准备的，很多情况下网站会拒绝爬虫的方问，甚至会封掉你的IP地址，使得你的IP在相对一段时间内不能再继续方问该网页了，所以为了使得我们不会被拦住，我们必须伪装自己，使得自己看起来更像正常的一个请求，说白了就是给自己披上一层羊的外衣，而这层外衣就是HTTP协议头信息。这次我们拿微博举例：_\n",
    "![avatar](weibo.png)"
   ]
  },
  {
   "cell_type": "code",
   "execution_count": null,
   "metadata": {},
   "outputs": [],
   "source": [
    "import requests\n",
    "import re\n",
    "user_name = []\n",
    "\n",
    "headers = {'Accept':'text/html,application/xhtml+xml,application/xml;q=0.9,image/webp,*/*;q=0.8',\n",
    "    'Accept-Encoding':'gzip, deflate, br',\n",
    "    'Accept-Language':'zh-CN,zh;q=0.8,zh-TW;q=0.7,zh-HK;q=0.5,en-US;q=0.3,en;q=0.2',\n",
    "    'Connection':'keep-alive',\n",
    "    'Cookie':'请输入自己的cookie',\n",
    "    'Host':'weibo.com',\n",
    "    'Upgrade-Insecure-Requests':'1',\n",
    "    'User-Agent':'Mozilla/5.0 (Windows NT 6.1; Win64; x64; rv:65.0) Gecko/20100101 Firefox/65.0'}\n",
    "\n",
    "html = requests.get('https://weibo.com/p/1005051678105910/follow?page=%d#Pl_Official_HisRelation__59',headers=headers).text\n",
    "user_name.extend(re.findall(r'<a class=\\\\\"S_txt1\\\\\" target=\\\\\"_blank\\\\\"  usercard=\\\\\"id=\\d+&refer_flag=\\d+_\\\\\" href=\\\\\"\\\\/\\S+\\?refer_flag=\\d+_\\\\\" >(\\S+)<\\\\/a>',html))\n",
    "print(user_name)"
   ]
  },
  {
   "cell_type": "markdown",
   "metadata": {},
   "source": [
    "**可以看到，我们在代码中设置了一个名叫hearder的变量，这个变量跟网页请求内容基本相同，这些参数是用于识别你电脑请求的一些参数，如果没有这些参数，你的请求头就不完整，对方就会拒绝你的请求，所以我们这个过程就是在伪装我们自己，使得我们的请求更像一个浏览器的请求，这里重点解释两个参数：User-Agent，Cookie：**\n",
    "> *User-Agent这个参数记录了你是以怎样的设备在请求，你在上网的时候这些信息都是必要的，这里我们可以看到我们模仿了一个windows的64位的火狐浏览器的请求，如果我们不设置这个参数，那么这个参数将默认显示为python，对方服务器看到你是一个python程序，肯定会直接将你屏蔽。*\n",
    "\n",
    "> *Cookie参数记录了你的账号登录信息，在最开始我们说了HTTP协议是无状态的，所以记不住账号信息，这个时候就需要一个参数来帮助识别账号信息，这个账号信息是有时效的，cookie也在不断刷新，但如果没有登陆后的cookie信息在其中，服务器就会把你认为成一个游客，不会给你返回信息或者直接拒绝你的请求，所以当我们使用爬虫爬取只有登录用户才能查看的内容的时候，我们必须添加这一个参数*"
   ]
  },
  {
   "cell_type": "markdown",
   "metadata": {},
   "source": [
    "# HTTP协议状态码\n",
    "\n",
    "__在上一段内容的服务器响应所提供的图片中，第一行状态行表明了状态码为200__\n",
    "\n",
    "| 分类| 分类描述|\n",
    "|----------------------------------------|----------------------------------------|\n",
    "| 1** \t| 信息，服务器收到请求，需要请求者继续执行操作 |\n",
    "| 2**\t| 成功，操作被成功接收并处理 |\n",
    "| 3**\t| 重定向，需要进一步的操作以完成请求 |\n",
    "| 4**\t| 客户端错误，请求包含语法错误或无法完成请求 |\n",
    "| 5**\t| 服务器错误，服务器在处理请求的过程中发生了错误 |\n",
    "\n",
    "|状态码| 状态码英文名称| 中文描述|\n",
    "|-------|---------------|--------|\n",
    "|100\t|Continue\t|继续。客户端应继续其请求|\n",
    "|101\t|Switching Protocols\t|切换协议。服务器根据客户端的请求切换协议。只能切换到更高级的协议，例如，切换到HTTP的新版本协议|\n",
    "|200\t|OK \t|请求成功。一般用于GET与POST请求|\n",
    "|201\t|Created\t|已创建。成功请求并创建了新的资源|\n",
    "|202\t|Accepted\t|已接受。已经接受请求，但未处理完成|\n",
    "|203\t|Non-Authoritative Information\t|非授权信息。请求成功。但返回的meta信息不在原始的服务器，而是一个副本|\n",
    "|204\t|No Content\t|无内容。服务器成功处理，但未返回内容。在未更新网页的情况下，可确保浏览器继续显示当前文档|\n",
    "|205\t|Reset Content\t|重置内容。服务器处理成功，用户终端（例如：浏览器）应重置文档视图。可通过此返回码清除浏览器的表单域|\n",
    "|206\t|Partial Content\t|部分内容。服务器成功处理了部分GET请求|\n",
    "|300\t|Multiple Choices\t|多种选择。请求的资源可包括多个位置，相应可返回一个资源特征与地址的列表用于用户终端（例如：浏览器）选择\n",
    "|301\t|Moved Permanently\t|永久移动。请求的资源已被永久的移动到新URI，返回信息会包括新的URI，浏览器会自动定向到新URI。今后任何新的请求都应使用新的URI代替\n",
    "|302\t|Found\t|临时移动。与301类似。但资源只是临时被移动。客户端应继续使用原有URI\n",
    "|303\t|See Other\t|查看其它地址。与301类似。使用GET和POST请求查看\n",
    "|304\t|Not Modified\t|未修改。所请求的资源未修改，服务器返回此状态码时，不会返回任何资源。客户端通常会缓存访问过的资源，通过提供一个头信息指出客户端希望只返回在指定日期之后修改的资源\n",
    "|305\t|Use Proxy\t|使用代理。所请求的资源必须通过代理访问|\n",
    "|306\t|Unused\t|已经被废弃的HTTP状态码|\n",
    "|307\t|Temporary Redirect\t|临时重定向。与302类似。使用GET请求重定向|\n",
    "|400\t|Bad Request\t|客户端请求的语法错误，服务器无法理解|\n",
    "|401\t|Unauthorized\t|请求要求用户的身份认证|\n",
    "|402\t|Payment Required\t|保留，将来使用|\n",
    "|403\t|Forbidden\t|服务器理解请求客户端的请求，但是拒绝执行此请求|\n",
    "|404\t|Not Found\t|服务器无法根据客户端的请求找到资源（网页）。通过此代码，网站设计人员可设置\"您所请求的资源无法找到\"的个性页面\n",
    "|405\t|Method Not Allowed|客户端请求中的方法被禁止\n",
    "|406\t|Not Acceptable\t|服务器无法根据客户端请求的内容特性完成请求\n",
    "|407\t|Proxy Authentication Required\t|请求要求代理的身份认证，与401类似，但请求者应当使用代理进行授权\n",
    "|408\t|Request Time-out\t|服务器等待客户端发送的请求时间过长，超时\n",
    "|09 \t|Conflict\t|服务器完成客户端的 PUT 请求时可能返回此代码，服务器处理请求时发生了冲突\n",
    "|10 \t|Gone\t|客户端请求的资源已经不存在。410不同于404，如果资源以前有现在被永久删除了可使用410代码，网站设计人员可通过301代码指定资源的新位置\n",
    "|411\t|Length Required\t|服务器无法处理客户端发送的不带Content-Length的请求信息\n",
    "|412\t|Precondition Failed\t|客户端请求信息的先决条件错误\n",
    "|413\t|Request Entity Too Large\t|由于请求的实体过大，服务器无法处理，因此拒绝请求。为防止客户端的连续请求，服务器可能会关闭连接。如果只是服务器暂时无法处理，则会包含一个Retry-After的响应信息\n",
    "|414\t|Request-URI Too Large\t|请求的URI过长（URI通常为网址），服务器无法处理415\tUnsupported Media Type\t服务器无法处理请求附带的媒体格式\n",
    "|416\t|Requested range not satisfiable\t|客户端请求的范围无效\n",
    "|417\t|Expectation Failed\t|服务器无法满足Expect的请求头信息\n",
    "|500\t|Internal Server Error\t|服务器内部错误，无法完成请求\n",
    "|501\t|Not Implemented\t|服务器不支持请求的功能，无法完成请求\n",
    "|502\t|Bad Gateway\t|作为网关或者代理工作的服务器尝试执行请求时，从远程服务器接收到了一个无效的响应\n",
    "|503\t|Service Unavailable\t|由于超载或系统维护，服务器暂时的无法处理客户端的请求。延时的长度可包含在服务器的Retry-After头信息中\n",
    "|504\t|Gateway Time-out\t|充当网关或代理的服务器，未及时从远端服务器获取请求\n",
    "|505\t|HTTP Version not supported\t|服务器不支持请求的HTTP协议的版本，无法完成处理"
   ]
  },
  {
   "cell_type": "code",
   "execution_count": null,
   "metadata": {},
   "outputs": [],
   "source": [
    "import requests\n",
    "response = requests.get('https://www.baidu.com/')\n",
    "print(response.status_code)"
   ]
  },
  {
   "cell_type": "markdown",
   "metadata": {},
   "source": [
    "*在上面的HTTP协议方法中我们介绍了很多种方法，这些方法也被前者一并封装好了，我们只需要稍加修改就能够实现这些方法，这些方法同样包含请求头参数等方法*"
   ]
  },
  {
   "cell_type": "markdown",
   "metadata": {},
   "source": [
    "# 实列———————简书花瓣"
   ]
  },
  {
   "cell_type": "code",
   "execution_count": null,
   "metadata": {},
   "outputs": [],
   "source": [
    "#网页数据\n",
    "headers = {\n",
    "    'User-Agent':'Mozilla/5.0 (Windows NT 6.1; Win64; x64; rv:65.0) Gecko/20100101 Firefox/65.0',\n",
    "}\n",
    "results = requests.get('https://www.jianshu.com/',headers = headers)\n",
    "print(results.text)"
   ]
  },
  {
   "cell_type": "code",
   "execution_count": null,
   "metadata": {},
   "outputs": [],
   "source": [
    "#图片数据\n",
    "headers = {\n",
    "    'Referer': 'https://huaban.com/',\n",
    "    'User-Agent':'Mozilla/5.0 (Windows NT 6.1; Win64; x64; rv:65.0) Gecko/20100101 Firefox/65.0',\n",
    "}\n",
    "results = requests.get('http://img.sccnn.com/bimg/341/14685.jpg',headers = headers)\n",
    "print(results.content)#以二进制形式输出\n",
    "with open('huanban.jpg','wb') as f:\n",
    "    f.write(results.content)"
   ]
  },
  {
   "cell_type": "markdown",
   "metadata": {},
   "source": []
  },
  {
   "cell_type": "markdown",
   "metadata": {},
   "source": [
    "# 网页内容解析————————beautifulsoup\n",
    "__在程序的使用中，只返回了内容并不能说明什么，更多的在于提取有效信息，我们都知道html有很多标签，那么我们就可以根据这些标签来查找信息__"
   ]
  },
  {
   "cell_type": "code",
   "execution_count": null,
   "metadata": {},
   "outputs": [],
   "source": [
    "from bs4 import BeautifulSoup\n",
    "headers = {\n",
    "    'User-Agent':'Mozilla/5.0 (Windows NT 6.1; Win64; x64; rv:65.0) Gecko/20100101 Firefox/65.0',\n",
    "}\n",
    "results = requests.get('https://s.weibo.com/user?q=%E9%B9%BF%E6%99%97&Refer=weibo_user',headers = headers)\n",
    "html = results.text\n",
    "soup = BeautifulSoup(html)\n",
    "users = soup.find('div',class_=\"card-wrap\").find_all('div',class_ = 'card')\n",
    "#\n",
    "#这里有两个find，一个事find，一个事find_all，用法都相同，找到一个什么样的标签，class属性是什么\n",
    "#find返回的是一个值，find_all是一个列表，所以列表需要遍历\n",
    "#\n",
    "#\n",
    "for i in users:\n",
    "    print(i.find('a',class_ = 'name').text)#名字，提取信息只需要加一个.text在后面就可以了\n",
    "    print(i.find('i',class_=\"icon-sex\")['class'][-1][9::])#性别，这里是提取class属性信息\n",
    "    print(i.find('i',class_=\"icon-sex\").parent.text[26:-18:])#所在地\n",
    "    print([i.text for i in i.find('span',class_=\"s-nobr\").parent.find_all('span')])#关注、粉丝、微博\n",
    "    for i in [i.text for i in [i for i in i.find_all('p')]]:\n",
    "        if i[:2:] == '简介':\n",
    "            print(i)\n",
    "        elif i[:2:] == '标签':\n",
    "            print(i)\n",
    "        elif i[:2:] == '教育':\n",
    "            print(i)\n",
    "        elif i[:2:] == '职业':\n",
    "            print(i)\n",
    "    print('————————————————————————————————————————————————————————————————————————————————————————————————')"
   ]
  },
  {
   "cell_type": "markdown",
   "metadata": {},
   "source": [
    "# 百度百科爬虫已经写好，请开始提取吧\n",
    "更多详细内容请参考官方详细文档：***https://beautifulsoup.readthedocs.io/zh_CN/v4.4.0/***"
   ]
  },
  {
   "cell_type": "code",
   "execution_count": null,
   "metadata": {},
   "outputs": [],
   "source": [
    "import requests\n",
    "from bs4 import BeautifulSoup\n",
    "headers = {\n",
    "    'User-Agent':'Mozilla/5.0 (Windows NT 6.1; Win64; x64; rv:65.0) Gecko/20100101 Firefox/65.0'\n",
    "}\n",
    "response = requests.get('https://baike.baidu.com/item/百度百科/85895',headers = headers)\n",
    "response.encoding = response.apparent_encoding#获取网页编码，对网页内容进行编码，防止乱码产生\n",
    "soup = BeautifulSoup(response.text)\n",
    "print(soup)"
   ]
  }
 ],
 "metadata": {
  "kernelspec": {
   "display_name": "Python 3",
   "language": "python",
   "name": "python3"
  },
  "language_info": {
   "codemirror_mode": {
    "name": "ipython",
    "version": 3
   },
   "file_extension": ".py",
   "mimetype": "text/x-python",
   "name": "python",
   "nbconvert_exporter": "python",
   "pygments_lexer": "ipython3",
   "version": "3.7.3"
  }
 },
 "nbformat": 4,
 "nbformat_minor": 2
}
